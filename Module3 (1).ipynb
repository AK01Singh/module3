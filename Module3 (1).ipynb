{
  "cells": [
    {
      "cell_type": "code",
      "execution_count": null,
      "id": "3fb37536-7550-434c-abd5-613eab781ba7",
      "metadata": {
        "id": "3fb37536-7550-434c-abd5-613eab781ba7",
        "outputId": "bc3c569d-d6e4-4731-fa72-a8512b4bdd84"
      },
      "outputs": [
        {
          "name": "stdout",
          "output_type": "stream",
          "text": [
            "Hello, World\n"
          ]
        }
      ],
      "source": [
        "# Q1: Write a Python program to print \"Hello, World!\"\n",
        "print(\"Hello, World\")"
      ]
    },
    {
      "cell_type": "code",
      "execution_count": null,
      "id": "57bce836-f770-4469-ac05-caaa5cb14f97",
      "metadata": {
        "id": "57bce836-f770-4469-ac05-caaa5cb14f97"
      },
      "outputs": [],
      "source": [
        "# Q2: Write a Python program that displays your name and age.\n",
        "name = \"Akash\"\n",
        "age = 20"
      ]
    },
    {
      "cell_type": "code",
      "execution_count": null,
      "id": "1fe4baf7-5fc3-464e-b0c1-89fa55f7db10",
      "metadata": {
        "id": "1fe4baf7-5fc3-464e-b0c1-89fa55f7db10",
        "outputId": "01119ddf-bd6b-4e95-ed9b-1e77c1712d19"
      },
      "outputs": [
        {
          "name": "stdout",
          "output_type": "stream",
          "text": [
            "My name is Akash\n",
            "I'm 20 years old\n"
          ]
        }
      ],
      "source": [
        "print(f\"My name is {name}\")\n",
        "print(f\"I'm {age} years old\")"
      ]
    },
    {
      "cell_type": "code",
      "execution_count": null,
      "id": "9e180966-aec2-4e5d-8b1f-9458a21fb5c1",
      "metadata": {
        "id": "9e180966-aec2-4e5d-8b1f-9458a21fb5c1",
        "outputId": "e838963c-581a-4814-f6e8-eb1aff86b636"
      },
      "outputs": [
        {
          "ename": "ModuleNotFoundError",
          "evalue": "No module named 'keyboard'",
          "output_type": "error",
          "traceback": [
            "\u001b[31m---------------------------------------------------------------------------\u001b[39m",
            "\u001b[31mModuleNotFoundError\u001b[39m                       Traceback (most recent call last)",
            "\u001b[36mCell\u001b[39m\u001b[36m \u001b[39m\u001b[32mIn[10]\u001b[39m\u001b[32m, line 2\u001b[39m\n\u001b[32m      1\u001b[39m \u001b[38;5;66;03m# Q3:Write code to print all the pre-defined keywords in Python using the keyword library.\u001b[39;00m\n\u001b[32m----> \u001b[39m\u001b[32m2\u001b[39m \u001b[38;5;28;01mimport\u001b[39;00m\u001b[38;5;250m \u001b[39m\u001b[34;01mkeyboard\u001b[39;00m\n\u001b[32m      3\u001b[39m \u001b[38;5;28mprint\u001b[39m(keyboard.all_modifiers + keyboard.all)\n",
            "\u001b[31mModuleNotFoundError\u001b[39m: No module named 'keyboard'"
          ]
        }
      ],
      "source": [
        "# Q3:Write code to print all the pre-defined keywords in Python using the keyword library.\n",
        "import keyboard\n",
        "print(keyboard.all_modifiers + keyboard.all)"
      ]
    },
    {
      "cell_type": "code",
      "execution_count": null,
      "id": "75fa3a91-0bd1-4fb9-823d-4b2e146db133",
      "metadata": {
        "id": "75fa3a91-0bd1-4fb9-823d-4b2e146db133",
        "outputId": "4bd8c7f5-b017-40b7-e59b-a80a03ecbe1e"
      },
      "outputs": [
        {
          "name": "stdout",
          "output_type": "stream",
          "text": [
            "1*1=1\n",
            "\n",
            "1*2=2\n",
            "\n",
            "1*3=3\n",
            "\n",
            "1*4=4\n",
            "\n",
            "1*5=5\n",
            "\n",
            "1*6=6\n",
            "\n",
            "1*7=7\n",
            "\n",
            "1*8=8\n",
            "\n",
            "1*9=9\n",
            "\n",
            "1*10=10\n",
            "\n"
          ]
        }
      ],
      "source": [
        "# Q4: Write a program that checks if a given word is a Python keyword.\n",
        "for i in range (1,2):\n",
        "    for j in range (1,11):\n",
        "        product = i * j\n",
        "        print(f\"{i}*{j}={product}\")\n",
        "        print()"
      ]
    },
    {
      "cell_type": "code",
      "execution_count": null,
      "id": "4e7c8cba-adf9-405d-89b9-efdfef6d130e",
      "metadata": {
        "id": "4e7c8cba-adf9-405d-89b9-efdfef6d130e"
      },
      "outputs": [],
      "source": [
        "## Q5:Create a list and tuple in Python, and demonstrate how attempting to change an element works differently for each\n",
        "my_tuple = (1, 2, 3, 4, 5)\n"
      ]
    },
    {
      "cell_type": "code",
      "execution_count": null,
      "id": "ea863f68-1798-4b0e-b156-b9ea52d01321",
      "metadata": {
        "id": "ea863f68-1798-4b0e-b156-b9ea52d01321",
        "outputId": "03902a0e-3589-4166-df1e-00d2d6d08573"
      },
      "outputs": [
        {
          "data": {
            "text/plain": [
              "(1, 2, 3, 4, 5)"
            ]
          },
          "execution_count": 25,
          "metadata": {},
          "output_type": "execute_result"
        }
      ],
      "source": [
        "my_tuple"
      ]
    },
    {
      "cell_type": "code",
      "execution_count": null,
      "id": "7d88ff47-f5c1-4490-908c-76c68e758dbe",
      "metadata": {
        "id": "7d88ff47-f5c1-4490-908c-76c68e758dbe",
        "outputId": "115bfe4e-2d98-4c22-a018-3cb574cb52f2"
      },
      "outputs": [
        {
          "ename": "TypeError",
          "evalue": "'tuple' object does not support item assignment",
          "output_type": "error",
          "traceback": [
            "\u001b[31m---------------------------------------------------------------------------\u001b[39m",
            "\u001b[31mTypeError\u001b[39m                                 Traceback (most recent call last)",
            "\u001b[36mCell\u001b[39m\u001b[36m \u001b[39m\u001b[32mIn[34]\u001b[39m\u001b[32m, line 1\u001b[39m\n\u001b[32m----> \u001b[39m\u001b[32m1\u001b[39m \u001b[43mmy_tuple\u001b[49m\u001b[43m[\u001b[49m\u001b[32;43m1\u001b[39;49m\u001b[43m]\u001b[49m=\u001b[32m2.0\u001b[39m\n",
            "\u001b[31mTypeError\u001b[39m: 'tuple' object does not support item assignment"
          ]
        }
      ],
      "source": [
        "my_tuple[1]=2.0"
      ]
    },
    {
      "cell_type": "code",
      "execution_count": null,
      "id": "88c6f4ed-2207-40f7-8714-8a384de52479",
      "metadata": {
        "id": "88c6f4ed-2207-40f7-8714-8a384de52479",
        "outputId": "eabf716a-10c3-48b3-cf39-5349e768bef9"
      },
      "outputs": [
        {
          "name": "stdout",
          "output_type": "stream",
          "text": [
            "I love pwskills\n"
          ]
        }
      ],
      "source": [
        "# Q6: Write a function to demonstrate the behavior of mutable and immutable arguments\n",
        "text = \"I love S1\"\n",
        "new_text= text.replace(\"S1\", \"pwskills\")    #this is a example of mutable in which we can add\\replace\\modify charcter\n",
        "print(new_text)\n"
      ]
    },
    {
      "cell_type": "code",
      "execution_count": null,
      "id": "db927e61-e5d5-40ab-9f8c-edabfc05dd4e",
      "metadata": {
        "id": "db927e61-e5d5-40ab-9f8c-edabfc05dd4e",
        "outputId": "7bdf8f50-b403-422f-b88c-93536987a670"
      },
      "outputs": [
        {
          "data": {
            "text/plain": [
              "(1, 2, 3, 4, 5)"
            ]
          },
          "execution_count": 33,
          "metadata": {},
          "output_type": "execute_result"
        }
      ],
      "source": [
        "my_tuple"
      ]
    },
    {
      "cell_type": "code",
      "execution_count": null,
      "id": "3df7c302-7d38-4f81-8af8-597685904b74",
      "metadata": {
        "id": "3df7c302-7d38-4f81-8af8-597685904b74",
        "outputId": "615b8989-88d1-4642-ee2e-725fa671c892"
      },
      "outputs": [
        {
          "ename": "TypeError",
          "evalue": "'tuple' object does not support item assignment",
          "output_type": "error",
          "traceback": [
            "\u001b[31m---------------------------------------------------------------------------\u001b[39m",
            "\u001b[31mTypeError\u001b[39m                                 Traceback (most recent call last)",
            "\u001b[36mCell\u001b[39m\u001b[36m \u001b[39m\u001b[32mIn[35]\u001b[39m\u001b[32m, line 1\u001b[39m\n\u001b[32m----> \u001b[39m\u001b[32m1\u001b[39m \u001b[43mmy_tuple\u001b[49m\u001b[43m[\u001b[49m\u001b[32;43m1\u001b[39;49m\u001b[43m]\u001b[49m=\u001b[32m2.0\u001b[39m\n",
            "\u001b[31mTypeError\u001b[39m: 'tuple' object does not support item assignment"
          ]
        }
      ],
      "source": [
        "my_tuple[1]=2.0         #we can't modify\\replace\\add the object"
      ]
    },
    {
      "cell_type": "code",
      "execution_count": null,
      "id": "f84c1517-e7c3-4008-94fc-4d1e6d9ca422",
      "metadata": {
        "id": "f84c1517-e7c3-4008-94fc-4d1e6d9ca422",
        "outputId": "a87ac080-052e-4564-e473-c500e3efd8db"
      },
      "outputs": [
        {
          "name": "stdin",
          "output_type": "stream",
          "text": [
            "Enter first number u want 2\n",
            "Enter second number u want 5\n"
          ]
        },
        {
          "name": "stdout",
          "output_type": "stream",
          "text": [
            "addition = 7\n",
            "subtraction= -3\n",
            "multiplication= 10\n",
            "division= 0.4\n"
          ]
        }
      ],
      "source": [
        "# Q7: Write a program that performs basic arithmetic operations on two user-input numbers.\n",
        "a = int(input(\"Enter first number u want\"))\n",
        "b = int(input(\"Enter second number u want\"))\n",
        "print(\"addition =\", a + b)\n",
        "print(\"subtraction=\", a - b)\n",
        "print(\"multiplication=\", a * b)\n",
        "print(\"division=\", a / b)"
      ]
    },
    {
      "cell_type": "code",
      "execution_count": null,
      "id": "41003bdf-73b2-4753-b707-eaf3efdfe54b",
      "metadata": {
        "id": "41003bdf-73b2-4753-b707-eaf3efdfe54b",
        "outputId": "33e21426-53ab-472c-cd0d-301b43f0d458"
      },
      "outputs": [
        {
          "name": "stdin",
          "output_type": "stream",
          "text": [
            "Enter a number 5\n"
          ]
        },
        {
          "name": "stdout",
          "output_type": "stream",
          "text": [
            "the number is 10 or less\n"
          ]
        }
      ],
      "source": [
        "# Q8: Write a program to demonstrate the use of logical operators.\n",
        "a = int(input(\"Enter a number\"))\n",
        "if a>10:\n",
        "    print(\"the number is greater than 10\")\n",
        "else:\n",
        "    print(\"the number is 10 or less\")"
      ]
    },
    {
      "cell_type": "code",
      "execution_count": null,
      "id": "cc989c4f-a7c1-497a-bfe3-c7ce4174663a",
      "metadata": {
        "id": "cc989c4f-a7c1-497a-bfe3-c7ce4174663a",
        "outputId": "e97198a6-0e95-426b-c46a-be3c3ae5c220"
      },
      "outputs": [
        {
          "data": {
            "text/plain": [
              "int"
            ]
          },
          "execution_count": 57,
          "metadata": {},
          "output_type": "execute_result"
        }
      ],
      "source": [
        "# Q9: Write a Python program to convert user input from string to integer, float, and boolean types\n",
        "a= 10\n",
        "type(a)"
      ]
    },
    {
      "cell_type": "code",
      "execution_count": null,
      "id": "786c5106-7ee4-44f5-bf62-32a7cf86af57",
      "metadata": {
        "id": "786c5106-7ee4-44f5-bf62-32a7cf86af57",
        "outputId": "c7e22a8d-788b-4373-8a72-a42641d13d02"
      },
      "outputs": [
        {
          "data": {
            "text/plain": [
              "'10'"
            ]
          },
          "execution_count": 58,
          "metadata": {},
          "output_type": "execute_result"
        }
      ],
      "source": [
        "str(a)"
      ]
    },
    {
      "cell_type": "code",
      "execution_count": null,
      "id": "767308f0-8058-413b-becf-e30d44decc8c",
      "metadata": {
        "id": "767308f0-8058-413b-becf-e30d44decc8c"
      },
      "outputs": [],
      "source": [
        "a=10.4"
      ]
    },
    {
      "cell_type": "code",
      "execution_count": null,
      "id": "8a3f52c6-8f10-4e04-b0e4-0e70c9542751",
      "metadata": {
        "id": "8a3f52c6-8f10-4e04-b0e4-0e70c9542751",
        "outputId": "5da62963-57f4-4e68-ebd5-e127d0e74fdb"
      },
      "outputs": [
        {
          "data": {
            "text/plain": [
              "10"
            ]
          },
          "execution_count": 60,
          "metadata": {},
          "output_type": "execute_result"
        }
      ],
      "source": [
        "int(a)"
      ]
    },
    {
      "cell_type": "code",
      "execution_count": null,
      "id": "0212a19c-96c4-4160-b7f5-c4e0e6b45b58",
      "metadata": {
        "id": "0212a19c-96c4-4160-b7f5-c4e0e6b45b58"
      },
      "outputs": [],
      "source": [
        "a= 4"
      ]
    },
    {
      "cell_type": "code",
      "execution_count": null,
      "id": "e31f34e0-c5b2-479e-8e82-525ff678c83f",
      "metadata": {
        "id": "e31f34e0-c5b2-479e-8e82-525ff678c83f",
        "outputId": "27011409-c58b-4571-ba30-a6da9b208f1e"
      },
      "outputs": [
        {
          "data": {
            "text/plain": [
              "4.0"
            ]
          },
          "execution_count": 62,
          "metadata": {},
          "output_type": "execute_result"
        }
      ],
      "source": [
        "float(a)"
      ]
    },
    {
      "cell_type": "code",
      "execution_count": null,
      "id": "8f8fe2c9-64a6-49ef-a805-133663859802",
      "metadata": {
        "id": "8f8fe2c9-64a6-49ef-a805-133663859802",
        "outputId": "05fa435b-cc4d-427d-d523-1b2b610842b4"
      },
      "outputs": [
        {
          "name": "stdout",
          "output_type": "stream",
          "text": [
            "1\n",
            "2\n",
            "3\n",
            "4\n",
            "5\n",
            "6\n",
            "7\n",
            "8\n",
            "9\n",
            "10\n"
          ]
        }
      ],
      "source": [
        "# Q10: Write a for loop to print numbers from 1 to 10.\n",
        "for i in range (1, 11):\n",
        "    print(i)"
      ]
    },
    {
      "cell_type": "code",
      "execution_count": null,
      "id": "5b603530-8fe1-44d9-9fde-a60dba87e519",
      "metadata": {
        "id": "5b603530-8fe1-44d9-9fde-a60dba87e519",
        "outputId": "64a21722-87e2-462a-d8d3-cb9b1032196b"
      },
      "outputs": [
        {
          "name": "stdout",
          "output_type": "stream",
          "text": [
            "2\n",
            "4\n",
            "6\n",
            "8\n",
            "10\n",
            "12\n",
            "14\n",
            "16\n",
            "18\n",
            "20\n",
            "22\n",
            "24\n",
            "26\n",
            "28\n",
            "30\n",
            "32\n",
            "34\n",
            "36\n",
            "38\n",
            "40\n",
            "42\n",
            "44\n",
            "46\n",
            "48\n",
            "50\n"
          ]
        }
      ],
      "source": [
        "# Q11: Write a Python program to find the sum of all even numbers between 1 and 50.\n",
        "total = 0\n",
        "for i in range(1, 51):\n",
        "    if i %2 ==0:\n",
        "        total += 1\n",
        "        print(i)"
      ]
    },
    {
      "cell_type": "code",
      "execution_count": null,
      "id": "15198afd-8679-4a98-a956-bec3d7ae1fca",
      "metadata": {
        "id": "15198afd-8679-4a98-a956-bec3d7ae1fca"
      },
      "outputs": [],
      "source": [
        "# Q12: Write a program to reverse a string using a while loop.\n"
      ]
    }
  ],
  "metadata": {
    "kernelspec": {
      "display_name": "Python 3 (ipykernel)",
      "language": "python",
      "name": "python3"
    },
    "language_info": {
      "codemirror_mode": {
        "name": "ipython",
        "version": 3
      },
      "file_extension": ".py",
      "mimetype": "text/x-python",
      "name": "python",
      "nbconvert_exporter": "python",
      "pygments_lexer": "ipython3",
      "version": "3.13.3"
    },
    "colab": {
      "provenance": []
    }
  },
  "nbformat": 4,
  "nbformat_minor": 5
}